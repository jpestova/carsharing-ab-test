{
 "cells": [
  {
   "cell_type": "code",
   "execution_count": 15,
   "id": "d838fa4b-5c8e-4a02-9359-15d10d74c927",
   "metadata": {},
   "outputs": [],
   "source": [
    "#Я подготовила мини A/B тест для каршеринга: показ подсказки о ближайшей заправке повышал конверсию бронирования в поездку с ~53% до ~80%, и разница оказалась статистически значимой. Это показывает, что даже небольшое изменение в интерфейсе может существенно улучшить поведение пользователей и ключевые продуктовые метрики.\n",
    "\n",
    "#Пошаговое объяснение действий:\n",
    "#1. Гипотеза: подсказка о ближайшей заправке увеличит конверсию бронирования в поездку.\n",
    "#2. Создание групп: группа A — без подсказки, группа B — с подсказкой.\n",
    "#3. Сбор данных: фиксируем, завершилась ли поездка (1) или нет (0).\n",
    "#4. Расчет метрики: конверсия = число завершенных поездок / общее число бронирований.\n",
    "#5. Статистическая проверка: t-тест для оценки значимости разницы.\n",
    "#6. Интерпретация: если p < 0.05 — изменение влияет на конверсию.\n",
    "#7. Визуализация: столбчатая диаграмма наглядно показывает разницу конверсий."
   ]
  },
  {
   "cell_type": "code",
   "execution_count": 16,
   "id": "45543cdd-5b22-4037-b880-6bc0ef319fd7",
   "metadata": {},
   "outputs": [],
   "source": [
    "import pandas as pd\n",
    "from scipy import stats\n",
    "import matplotlib.pyplot as plt"
   ]
  },
  {
   "cell_type": "code",
   "execution_count": 17,
   "id": "d1a7da01-88fa-4b8a-ac99-307668c78afc",
   "metadata": {},
   "outputs": [],
   "source": [
    "# Данные теста: 0 — бронирование отменено, 1 — поездка завершена\n",
    "# Группа A — без подсказки о заправке, группа B — с подсказкой\n",
    "group_a = [1,0,1,1,0,1,0,1,0,1,0,1,0,1,0]\n",
    "group_b = [1,1,1,1,1,0,1,1,1,0,1,1,1,1,1]"
   ]
  },
  {
   "cell_type": "code",
   "execution_count": 18,
   "id": "bb67c78b-6863-4ffd-a14f-77ee1975c733",
   "metadata": {},
   "outputs": [],
   "source": [
    "# Шаг 1: расчет конверсии\n",
    "conv_a = sum(group_a)/len(group_a)\n",
    "conv_b = sum(group_b)/len(group_b)"
   ]
  },
  {
   "cell_type": "code",
   "execution_count": 19,
   "id": "b5ba1c6f-9e6d-46b2-b99c-bd445fd0ce1f",
   "metadata": {},
   "outputs": [],
   "source": [
    "# Шаг 2: проверка статистической значимости\n",
    "t_stat, p_value = stats.ttest_ind(group_a, group_b)"
   ]
  },
  {
   "cell_type": "code",
   "execution_count": 20,
   "id": "b55d8120-b012-4eaa-9af1-58aa93ff2ced",
   "metadata": {},
   "outputs": [
    {
     "name": "stdout",
     "output_type": "stream",
     "text": [
      "Конверсия группы A: 0.53\n",
      "Конверсия группы B: 0.87\n",
      "Разница статистически значимая\n"
     ]
    }
   ],
   "source": [
    "# Шаг 3: интерпретация\n",
    "print(f\"Конверсия группы A: {conv_a:.2f}\")\n",
    "print(f\"Конверсия группы B: {conv_b:.2f}\")\n",
    "if p_value < 0.05:\n",
    "    print(\"Разница статистически значимая\")\n",
    "else:\n",
    "    print(\"Разница незначимая\")"
   ]
  },
  {
   "cell_type": "code",
   "execution_count": 21,
   "id": "fa068580-bc0a-4ef0-8110-2ba02eac5658",
   "metadata": {},
   "outputs": [
    {
     "data": {
      "image/png": "[encoded data removed]",
      "text/plain": [
       "<Figure size 640x480 with 1 Axes>"
      ]
     },
     "metadata": {},
     "output_type": "display_data"
    }
   ],
   "source": [
    "# Шаг 4: визуализация\n",
    "plt.bar(['A','B'], [conv_a, conv_b], color=['skyblue','salmon'])\n",
    "plt.ylim(0,1)\n",
    "plt.ylabel('Конверсия')\n",
    "plt.title('A/B тест: подсказка о заправке vs конверсия поездки')\n",
    "plt.show()"
   ]
  },
  {
   "cell_type": "code",
   "execution_count": 22,
   "id": "a0493c1a-b7c8-4d15-b840-3ecddc98c071",
   "metadata": {},
   "outputs": [],
   "source": [
    "#Вывод:\n",
    "#Добавление такой подсказки в приложении имеет смысл, так как пользователи с ней чаще доводят бронирование до фактической поездки.\n",
    "#Можно рекомендовать внедрить подсказку для всех пользователей и продолжить мониторинг метрик, чтобы подтвердить эффект на большем объёме данных."
   ]
  },
  {
   "cell_type": "code",
   "execution_count": null,
   "id": "21c8dbf0-25f4-49ec-97c6-db01c7b3c5fa",
   "metadata": {},
   "outputs": [],
   "source": []
  }
 ],
 "metadata": {
  "kernelspec": {
   "display_name": "Python 3 (ipykernel)",
   "language": "python",
   "name": "python3"
  },
  "language_info": {
   "codemirror_mode": {
    "name": "ipython",
    "version": 3
   },
   "file_extension": ".py",
   "mimetype": "text/x-python",
   "name": "python",
   "nbconvert_exporter": "python",
   "pygments_lexer": "ipython3",
   "version": "3.12.7"
  }
 },
 "nbformat": 4,
 "nbformat_minor": 5
}
